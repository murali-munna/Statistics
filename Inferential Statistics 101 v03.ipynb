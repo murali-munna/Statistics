{
 "cells": [
  {
   "cell_type": "markdown",
   "metadata": {
    "colab_type": "text",
    "id": "Nj-3shUQar70"
   },
   "source": [
    "# Inferential Statistics in Python\n",
    "\n",
    "#### Author: Murali\n",
    "\n",
    "1. Central Limit Theorem (CLT)\n",
    "2. Confidence Intervals\n",
    "3. Hypothesis Testing\n",
    "  * Steps in Hypothesis Testing\n",
    "  * Inference for Single Mean\n",
    "  * Inference for Comparing Two Means (Categorical vs. Continuous variable relationship)\n",
    "  * Inference for Comparing Multiple Means (ANOVA)\n",
    "  * Inference for Single Proportion\n",
    "  * Inference for Comparing Two Proportions (Categorical vs. Categorical variable relationship)\n",
    "  * Inference for Comparing Two/Multiple Proportions"
   ]
  },
  {
   "cell_type": "code",
   "execution_count": 1,
   "metadata": {},
   "outputs": [],
   "source": [
    "import scipy.stats as stats\n",
    "import statsmodels.api as sm\n",
    "import numpy as np\n",
    "import pandas as pd\n",
    "import math\n",
    "import matplotlib.pyplot as plt"
   ]
  },
  {
   "cell_type": "markdown",
   "metadata": {
    "colab_type": "text",
    "id": "QhrAKpejdmHV"
   },
   "source": [
    "## 1. Central Limit Theorem\n",
    "\n",
    "### 1a. Population and Samples\n",
    "The values/metrics that we report come from the sample data. But, we are often interested in the population parameters. Since, it is impossible to collect data for the entire population, we use sample statistics as point estimates for the unknown population paramters.\n",
    "\n",
    "* Population - Parameter (unknown)\n",
    "* Sample - Statistic, point estimate (known)\n",
    "\n",
    "![def.PNG](img/def.PNG)\n",
    "\n"
   ]
  },
  {
   "cell_type": "markdown",
   "metadata": {
    "colab_type": "text",
    "id": "260fvgXC-72T"
   },
   "source": [
    "### 1b. Normal Distribution\n",
    "\n",
    "![normal_dist.png](img/normal_dist.png)"
   ]
  },
  {
   "cell_type": "markdown",
   "metadata": {
    "colab_type": "text",
    "id": "p9gICSPMk3XE"
   },
   "source": [
    "### 1c. Sampling Variability\n",
    "Sample statistics vary from sample to sample. Quantifying how the sample statistics vary will provide an idea about the margin of error in estimating population parameters.\n",
    "\n",
    "[CLT - RShiny App](https://gallery.shinyapps.io/CLT_mean/)\n",
    "\n",
    "Sampling Distribution - Distrbution of means of all samples\n",
    "\n",
    "![sampling%20dist1.PNG](img/sampling_dist.PNG)"
   ]
  },
  {
   "cell_type": "markdown",
   "metadata": {
    "colab_type": "text",
    "id": "tV-WP4e4k5B4"
   },
   "source": [
    "### 1d. CLT\n",
    "What differences did you observe in the population distribution and the sampling distribution?\n",
    "\n",
    "1. The sampling distribution is also normal (for higher sample sizes)\n",
    "2. Mean ($\\bar x$) of the sampling distribution is closer to the population mean\n",
    "3. Std. Deviation (also called Std. Error, denoted by $s$) of the sampling distribution is less than the population std. deviation\n",
    "![clt.PNG](img/clt.PNG)\n"
   ]
  },
  {
   "cell_type": "markdown",
   "metadata": {
    "colab_type": "text",
    "id": "zbWxmmoHuWe0"
   },
   "source": [
    "### 1e. Exercise\n",
    "I am about to take a trip to visit my parents and the drive is 6 hours. I make a random playlist of 100 songs. ($\\mu$ = 3.45, $\\sigma$ = 1.63). What is the probability that my playlist lasts the entire drive?\n",
    "\n",
    "1. Plot the sampling distribution\n",
    "2. Calculate z-score\n",
    "3. Calculate probability associated with that z-score\n",
    "\n",
    "**What is z-score? Measure of how many std. deviations the sample mean is away from the true mean**\n",
    "\n",
    "z = ($\\bar x$ - $\\mu$) / $SE$\n",
    "\n",
    "SE = $\\sigma$/$\\sqrt{n}$"
   ]
  },
  {
   "cell_type": "code",
   "execution_count": 63,
   "metadata": {
    "colab": {
     "base_uri": "https://localhost:8080/",
     "height": 34
    },
    "colab_type": "code",
    "executionInfo": {
     "elapsed": 1017,
     "status": "ok",
     "timestamp": 1597691721312,
     "user": {
      "displayName": "Murali Mohana Krishna Dandu",
      "photoUrl": "https://lh3.googleusercontent.com/a-/AOh14Gj-8uYGa1uI_byTMt98nMBi05WnHGNV9aQt8Y3K=s64",
      "userId": "04728729402488034460"
     },
     "user_tz": -330
    },
    "id": "pUM0qbfWX5my",
    "outputId": "af0f8901-1d56-47d8-b644-0533a11c3cf9"
   },
   "outputs": [
    {
     "data": {
      "text/plain": [
       "0.8212777324852482"
      ]
     },
     "execution_count": 63,
     "metadata": {},
     "output_type": "execute_result"
    }
   ],
   "source": [
    "# Scipy Stats provides variety of functionalities for various distributions. \n",
    "# Norm stands for Normal distribution, cdf - Cumulative distribution function\n",
    "\n",
    "# To last 6 hours, we want the avg. length to be greater than (6*60)/100 = 3.6 mins.\n",
    "stats.norm(loc=3.45, scale=0.163).cdf(3.6)"
   ]
  },
  {
   "cell_type": "code",
   "execution_count": 64,
   "metadata": {
    "colab": {
     "base_uri": "https://localhost:8080/",
     "height": 34
    },
    "colab_type": "code",
    "executionInfo": {
     "elapsed": 1155,
     "status": "ok",
     "timestamp": 1597691716899,
     "user": {
      "displayName": "Murali Mohana Krishna Dandu",
      "photoUrl": "https://lh3.googleusercontent.com/a-/AOh14Gj-8uYGa1uI_byTMt98nMBi05WnHGNV9aQt8Y3K=s64",
      "userId": "04728729402488034460"
     },
     "user_tz": -330
    },
    "id": "2zlRUKLDpwbB",
    "outputId": "c1876168-976c-4e96-bb0a-4fc6cf51636e"
   },
   "outputs": [
    {
     "data": {
      "text/plain": [
       "0.17872226751475184"
      ]
     },
     "execution_count": 64,
     "metadata": {},
     "output_type": "execute_result"
    }
   ],
   "source": [
    "# However, based on the question, we want to know the greater than probability\n",
    "stats.norm(loc=3.45, scale=0.163).sf(3.6) # sf = 1 - cdf"
   ]
  },
  {
   "cell_type": "code",
   "execution_count": 65,
   "metadata": {
    "colab": {
     "base_uri": "https://localhost:8080/",
     "height": 34
    },
    "colab_type": "code",
    "executionInfo": {
     "elapsed": 1076,
     "status": "ok",
     "timestamp": 1597692009773,
     "user": {
      "displayName": "Murali Mohana Krishna Dandu",
      "photoUrl": "https://lh3.googleusercontent.com/a-/AOh14Gj-8uYGa1uI_byTMt98nMBi05WnHGNV9aQt8Y3K=s64",
      "userId": "04728729402488034460"
     },
     "user_tz": -330
    },
    "id": "BNaqvz3s0Ac1",
    "outputId": "d96cfb2e-1c3a-420c-b957-dbbd9a1ee060"
   },
   "outputs": [
    {
     "name": "stdout",
     "output_type": "stream",
     "text": [
      "0.9202453987730057\n",
      "0.17872226751475173\n"
     ]
    }
   ],
   "source": [
    "# Calculate the probability directly using the z_score\n",
    "mu = 3.45\n",
    "x = 3.6\n",
    "sigma = 1.63\n",
    "n = 100\n",
    "z_score = (3.6 - 3.45)/(sigma/math.sqrt(100))\n",
    "print(z_score)\n",
    "print(1 - stats.norm.cdf(z_score)) # If you don't define loc, scale (mean, SE), it will asumme a normal dist with loc=0, scale=1"
   ]
  },
  {
   "cell_type": "code",
   "execution_count": 4,
   "metadata": {},
   "outputs": [
    {
     "data": {
      "text/plain": [
       "0.9990436016629858"
      ]
     },
     "execution_count": 4,
     "metadata": {},
     "output_type": "execute_result"
    }
   ],
   "source": [
    "# Exercise\n",
    "# Suppose heights of all men in India have a mean of 69.1 inches and a standard deviation of 2.9 inches. \n",
    "# What is the probability that a random sample of 100 men will yield a sample average less than 70 inches?\n",
    "mu=69.1\n",
    "x=70\n",
    "sigma=2.9\n",
    "n=100\n",
    "z_score = (70 - 69.1)/(sigma/math.sqrt(100))\n",
    "stats.norm.cdf(z_score)"
   ]
  },
  {
   "cell_type": "code",
   "execution_count": 67,
   "metadata": {},
   "outputs": [
    {
     "name": "stdout",
     "output_type": "stream",
     "text": [
      "1.2815515655446004\n"
     ]
    }
   ],
   "source": [
    "print(stats.norm.ppf(0.90))"
   ]
  },
  {
   "cell_type": "code",
   "execution_count": 68,
   "metadata": {
    "colab": {
     "base_uri": "https://localhost:8080/",
     "height": 34
    },
    "colab_type": "code",
    "executionInfo": {
     "elapsed": 1139,
     "status": "ok",
     "timestamp": 1597761501043,
     "user": {
      "displayName": "Murali Mohana Krishna Dandu",
      "photoUrl": "https://lh3.googleusercontent.com/a-/AOh14Gj-8uYGa1uI_byTMt98nMBi05WnHGNV9aQt8Y3K=s64",
      "userId": "04728729402488034460"
     },
     "user_tz": -330
    },
    "id": "C3AdESqo2yxF",
    "outputId": "fef74a2c-329f-46ab-d64f-7f3b80abf1bb"
   },
   "outputs": [
    {
     "name": "stdout",
     "output_type": "stream",
     "text": [
      "1.6448536269514722\n",
      "1.959963984540054\n",
      "2.5758293035489004\n"
     ]
    }
   ],
   "source": [
    "# Get the z-scores for some popular middle xx% probabilities\n",
    "\n",
    "# 90% in the middle\n",
    "print(stats.norm.ppf(0.95))\n",
    "\n",
    "# 95% in the middle\n",
    "print(stats.norm.ppf(0.975))\n",
    "\n",
    "# 99% in the middle\n",
    "print(stats.norm.ppf(0.995))"
   ]
  },
  {
   "cell_type": "code",
   "execution_count": 69,
   "metadata": {},
   "outputs": [
    {
     "data": {
      "text/plain": [
       "2.3263478740408408"
      ]
     },
     "execution_count": 69,
     "metadata": {},
     "output_type": "execute_result"
    }
   ],
   "source": [
    "# Exercise\n",
    "# Confirm that z⋆ for a 98% confidence level is 2.33.\n",
    "stats.norm.ppf(0.99)"
   ]
  },
  {
   "cell_type": "markdown",
   "metadata": {
    "colab_type": "text",
    "id": "k5oQvKeD_Nzv"
   },
   "source": [
    "## 2. Confidence Intervals\n",
    "\n",
    "### C.I = $\\bar x$ $\\pm$ z* SE\n",
    "\n",
    "where \n",
    "\n",
    "SE = $\\sigma$/$\\sqrt{n}$, \n",
    "\n",
    "z* = critical value corresponding to the middle xx% of the normal distribution\n",
    "\n",
    "* For 90% C.I, z = 1.64\n",
    "* For 95% C.I, z = 1.96\n",
    "* For 99% C.I, z = 2.58"
   ]
  },
  {
   "cell_type": "code",
   "execution_count": 70,
   "metadata": {
    "colab": {},
    "colab_type": "code",
    "executionInfo": {
     "elapsed": 1072,
     "status": "ok",
     "timestamp": 1597761782334,
     "user": {
      "displayName": "Murali Mohana Krishna Dandu",
      "photoUrl": "https://lh3.googleusercontent.com/a-/AOh14Gj-8uYGa1uI_byTMt98nMBi05WnHGNV9aQt8Y3K=s64",
      "userId": "04728729402488034460"
     },
     "user_tz": -330
    },
    "id": "nev2xz_V57BK"
   },
   "outputs": [],
   "source": [
    "# Exercise - Create a CI function \n",
    "# Input: sample mean, std.dev, sample size, CI %\n",
    "# Output: CI as a tuple\n",
    "def conf_int(n, mean, std_dev, ci):\n",
    "    z_score = stats.norm.ppf(ci + ((1-ci)/2))\n",
    "    me = z_score * (std_dev/math.sqrt(n)) #right side term\n",
    "\n",
    "    lower_bound = mean - me\n",
    "    upper_bound = mean + me\n",
    "    # write your code here\n",
    "    return (lower_bound, upper_bound)"
   ]
  },
  {
   "cell_type": "code",
   "execution_count": 71,
   "metadata": {
    "colab": {},
    "colab_type": "code",
    "id": "VK6TVcsqBf2j"
   },
   "outputs": [],
   "source": [
    "# Exercise\n",
    "# 1. Calculate a 95% confidence interval for the average weekly grocery spend using a random sample of 100 people \n",
    "# where the sample mean is 180 rupees and the sample standard deviation is 21 rupees\n",
    "# Interpret this interval in context of the data.\n",
    "# 2. Calculate the 99% CI for the above problem\n",
    "# 3. What are your observations from Q2 and Q3\n",
    "\n",
    "# Ans: (160, 200) We are 95% confident that the true pop mean (single value - mu) lies in this range"
   ]
  },
  {
   "cell_type": "code",
   "execution_count": null,
   "metadata": {},
   "outputs": [],
   "source": [
    "# xbar = 5'7'', (5'4'', 5'10'')"
   ]
  },
  {
   "cell_type": "markdown",
   "metadata": {
    "colab_type": "text",
    "id": "Gf4Nn4s2DR3g"
   },
   "source": [
    "### Accuracy vs. Precision\n",
    "* What if I want to be more sure about my interval?\n",
    "* What happens if I increase confidence %?\n",
    "* How to be more precise for the same confidence %?\n"
   ]
  },
  {
   "cell_type": "code",
   "execution_count": 72,
   "metadata": {
    "colab": {},
    "colab_type": "code",
    "executionInfo": {
     "elapsed": 1308,
     "status": "ok",
     "timestamp": 1597762486800,
     "user": {
      "displayName": "Murali Mohana Krishna Dandu",
      "photoUrl": "https://lh3.googleusercontent.com/a-/AOh14Gj-8uYGa1uI_byTMt98nMBi05WnHGNV9aQt8Y3K=s64",
      "userId": "04728729402488034460"
     },
     "user_tz": -330
    },
    "id": "x7QhASzcDwIh"
   },
   "outputs": [],
   "source": [
    "# Exercise - What is the required sample size for a desired ME (Margin of Error)\n"
   ]
  },
  {
   "cell_type": "markdown",
   "metadata": {
    "colab": {},
    "colab_type": "code",
    "id": "-9T8KiSgFy7C"
   },
   "source": [
    "## 3. Hypothesis Testing\n",
    "\n",
    "Hypothesis testing is a critical tool in inferential statistics, for determing what the value of a population parameter could be or whether our claim on the population can be proven with the sample data at hand.\n",
    "\n",
    "[Introduction to Hypothesis Testing](https://github.com/tirthajyoti/Stats-Maths-with-Python/blob/master/Resources/Introduction%20to%20Hypothesis%20Testing.pdf)\n",
    "\n",
    "Steps in Hypothesis Testing -\n",
    "\n",
    "1. Define the Null and Alternate hypothesis\n",
    "   * Null Hypothesis: $H_0$\n",
    "   * Alternative Hypothesis: $H_a$\n",
    "\n",
    "\n",
    "2. Calculate test-statistic\n",
    "   * The equation is:\n",
    "$$\\frac{Point\\ Estimate - Hypothesized\\ Estimate}{Standard\\ Error\\ of\\ Estimate}$$\n",
    "\n",
    "\n",
    "3. Calculate p-value\n",
    "    * **p-value = probability of observed or more extreme observations given the null hypothesis is true**\n",
    "\n",
    "\n",
    "4. Interpret the p-value and validate the claim"
   ]
  },
  {
   "cell_type": "markdown",
   "metadata": {},
   "source": [
    "### 3a. Inference for Single Mean\n",
    "\n",
    "**Question:** We have conducted a Stats exam for a sample batch to test the effectiveness of new training program. Leadership has a question whether the test is effective or not? (Effectiveness is defined when the avg. marks more than 70)\n",
    "\n",
    "**Population:** All trainees (present/future) that will join the organization <br>\n",
    "**Parameter of interest:** Avg. marks of population \n",
    "\n",
    "**Null Hypothesis:** $\\mu$ = 70 <br>\n",
    "**Alternative Hypthosis:** $\\mu$ > 70\n",
    "\n",
    "**Experiment Data:** 45 trainees, avg and std. dev of their marks\n",
    "\n"
   ]
  },
  {
   "cell_type": "code",
   "execution_count": null,
   "metadata": {},
   "outputs": [],
   "source": [
    "#Z-test or t-test (less sample sizes, <30)\n",
    "#one sample or two sample\n",
    "#one sided (one tailed) or two sided (two tailed)\n",
    "# if two sided - independent or dependent"
   ]
  },
  {
   "cell_type": "code",
   "execution_count": 73,
   "metadata": {},
   "outputs": [],
   "source": [
    "marks = np.array([67, 43, 87, 56, 34, 89, 92, 78, 21, 98, 76, 59, 93, 84, 88, 45, 49, 71, 84, 87, 94, 97, 40, 65,\n",
    "                  56, 43, 78, 72, 80, 63, 60, 85, 82, 95, 96, 79, 65, 76, 85, 72])"
   ]
  },
  {
   "cell_type": "code",
   "execution_count": 74,
   "metadata": {},
   "outputs": [
    {
     "data": {
      "text/plain": [
       "<matplotlib.axes._subplots.AxesSubplot at 0x1d8af1ffc50>"
      ]
     },
     "execution_count": 74,
     "metadata": {},
     "output_type": "execute_result"
    },
    {
     "data": {
      "image/png": "[encoded data removed]",
      "text/plain": [
       "<Figure size 432x288 with 1 Axes>"
      ]
     },
     "metadata": {
      "needs_background": "light"
     },
     "output_type": "display_data"
    }
   ],
   "source": [
    "pd.Series(marks).hist()"
   ]
  },
  {
   "cell_type": "code",
   "execution_count": 75,
   "metadata": {},
   "outputs": [
    {
     "data": {
      "text/plain": [
       "(40, 72.1, 19.175244457372635)"
      ]
     },
     "execution_count": 75,
     "metadata": {},
     "output_type": "execute_result"
    }
   ],
   "source": [
    "(len(marks), marks.mean(), marks.std())"
   ]
  },
  {
   "cell_type": "code",
   "execution_count": 76,
   "metadata": {},
   "outputs": [
    {
     "data": {
      "text/plain": [
       "(0.6839284800666124, 0.2470101644686558)"
      ]
     },
     "execution_count": 76,
     "metadata": {},
     "output_type": "execute_result"
    }
   ],
   "source": [
    "# Statsmodels provides numerous statistical tests - https://www.statsmodels.org/stable/stats.html\n",
    "# Perform single sample, one-tailed z-test\n",
    "sm.stats.ztest(marks, value = 70, alternative = \"larger\")\n",
    "# Outputs - test statistic (z_score), p-value"
   ]
  },
  {
   "cell_type": "markdown",
   "metadata": {},
   "source": [
    "**Conclusion of the Hypothesis Test:** p-value is 0.247 <br>\n",
    "Since the p-value is much higher than the usual cut-off (0.05), we fail to reject null hypothesis. The data doesn't provide strong evidence for the alternate hypothesis that the mean stats marks is higher than 70. We cannot say that this programme is effective."
   ]
  },
  {
   "cell_type": "code",
   "execution_count": 77,
   "metadata": {},
   "outputs": [],
   "source": [
    "# Exercise\n",
    "# Let's say we directly have mean and std.dev without the actual data. How do we use the above function?\n"
   ]
  },
  {
   "cell_type": "code",
   "execution_count": 2,
   "metadata": {},
   "outputs": [],
   "source": [
    "marks_dummy = np.random.normal(loc=72.1, scale=19.18, size=45)"
   ]
  },
  {
   "cell_type": "code",
   "execution_count": 3,
   "metadata": {},
   "outputs": [
    {
     "data": {
      "text/plain": [
       "array([ 82.55298028,  95.2133432 ,  96.09708431,  48.63780479,\n",
       "        79.21936158,  57.98535489,  89.19982972,  76.34735361,\n",
       "        74.94479181,  80.28937501,  95.61220832,  46.09300668,\n",
       "        53.57939096,  68.40893933,  77.39510338,  42.97999373,\n",
       "        75.62707837,  58.13329192,  60.37191311,  35.14313418,\n",
       "        92.88742464,  73.86584563,  90.03892978,  57.81240551,\n",
       "        69.011431  ,  75.66915069, 110.38427043,  61.5095468 ,\n",
       "        88.71323323,  55.8652277 ,  25.32342958,  67.28179806,\n",
       "        68.79929388, 104.49199773, 113.16720836, 115.45559804,\n",
       "        57.98118231,  43.16755128,  74.28902626,  91.9759031 ,\n",
       "        98.16177786,  88.6422559 ,  51.50369493,  76.75339997,\n",
       "        76.06082515])"
      ]
     },
     "execution_count": 3,
     "metadata": {},
     "output_type": "execute_result"
    }
   ],
   "source": [
    "marks_dummy"
   ]
  },
  {
   "cell_type": "markdown",
   "metadata": {},
   "source": [
    "### 3b. Inference for Comparing Two Means (Categorical vs. Continuous Relationship)\n",
    "\n",
    "**Question:** Given the Employee Attrition dataset, does attrition depends on daily rate of employees? In other words, do attrition employees have significantly different salary (DailyRate) compared to non-attrition employees?\n",
    "\n",
    "**Population:** Employees\n",
    "**Parameter of interest:** $\\mu_1 - \\mu_2$, Diff in avg. daily rate of employees\n",
    "\n",
    "**Null Hypothesis:** $\\mu_1 = \\mu_2$ <br>\n",
    "**Alternative Hypthosis:** $\\mu_1 \\neq \\mu_2$\n",
    "\n",
    "**Experiment Data:** Employee Attrition Dataset"
   ]
  },
  {
   "cell_type": "code",
   "execution_count": 78,
   "metadata": {},
   "outputs": [
    {
     "data": {
      "text/html": [
       "<div>\n",
       "<style scoped>\n",
       "    .dataframe tbody tr th:only-of-type {\n",
       "        vertical-align: middle;\n",
       "    }\n",
       "\n",
       "    .dataframe tbody tr th {\n",
       "        vertical-align: top;\n",
       "    }\n",
       "\n",
       "    .dataframe thead th {\n",
       "        text-align: right;\n",
       "    }\n",
       "</style>\n",
       "<table border=\"1\" class=\"dataframe\">\n",
       "  <thead>\n",
       "    <tr style=\"text-align: right;\">\n",
       "      <th></th>\n",
       "      <th>Age</th>\n",
       "      <th>Attrition</th>\n",
       "      <th>BusinessTravel</th>\n",
       "      <th>DailyRate</th>\n",
       "      <th>Department</th>\n",
       "      <th>DistanceFromHome</th>\n",
       "      <th>Education</th>\n",
       "      <th>EducationField</th>\n",
       "      <th>EmployeeCount</th>\n",
       "      <th>EmployeeNumber</th>\n",
       "      <th>...</th>\n",
       "      <th>RelationshipSatisfaction</th>\n",
       "      <th>StandardHours</th>\n",
       "      <th>StockOptionLevel</th>\n",
       "      <th>TotalWorkingYears</th>\n",
       "      <th>TrainingTimesLastYear</th>\n",
       "      <th>WorkLifeBalance</th>\n",
       "      <th>YearsAtCompany</th>\n",
       "      <th>YearsInCurrentRole</th>\n",
       "      <th>YearsSinceLastPromotion</th>\n",
       "      <th>YearsWithCurrManager</th>\n",
       "    </tr>\n",
       "  </thead>\n",
       "  <tbody>\n",
       "    <tr>\n",
       "      <th>0</th>\n",
       "      <td>41</td>\n",
       "      <td>Yes</td>\n",
       "      <td>Travel_Rarely</td>\n",
       "      <td>1102</td>\n",
       "      <td>Sales</td>\n",
       "      <td>1</td>\n",
       "      <td>2</td>\n",
       "      <td>Life Sciences</td>\n",
       "      <td>1</td>\n",
       "      <td>1</td>\n",
       "      <td>...</td>\n",
       "      <td>1</td>\n",
       "      <td>80</td>\n",
       "      <td>0</td>\n",
       "      <td>8</td>\n",
       "      <td>0</td>\n",
       "      <td>1</td>\n",
       "      <td>6</td>\n",
       "      <td>4</td>\n",
       "      <td>0</td>\n",
       "      <td>5</td>\n",
       "    </tr>\n",
       "    <tr>\n",
       "      <th>1</th>\n",
       "      <td>49</td>\n",
       "      <td>No</td>\n",
       "      <td>Travel_Frequently</td>\n",
       "      <td>279</td>\n",
       "      <td>Research &amp; Development</td>\n",
       "      <td>8</td>\n",
       "      <td>1</td>\n",
       "      <td>Life Sciences</td>\n",
       "      <td>1</td>\n",
       "      <td>2</td>\n",
       "      <td>...</td>\n",
       "      <td>4</td>\n",
       "      <td>80</td>\n",
       "      <td>1</td>\n",
       "      <td>10</td>\n",
       "      <td>3</td>\n",
       "      <td>3</td>\n",
       "      <td>10</td>\n",
       "      <td>7</td>\n",
       "      <td>1</td>\n",
       "      <td>7</td>\n",
       "    </tr>\n",
       "    <tr>\n",
       "      <th>2</th>\n",
       "      <td>37</td>\n",
       "      <td>Yes</td>\n",
       "      <td>Travel_Rarely</td>\n",
       "      <td>1373</td>\n",
       "      <td>Research &amp; Development</td>\n",
       "      <td>2</td>\n",
       "      <td>2</td>\n",
       "      <td>Other</td>\n",
       "      <td>1</td>\n",
       "      <td>4</td>\n",
       "      <td>...</td>\n",
       "      <td>2</td>\n",
       "      <td>80</td>\n",
       "      <td>0</td>\n",
       "      <td>7</td>\n",
       "      <td>3</td>\n",
       "      <td>3</td>\n",
       "      <td>0</td>\n",
       "      <td>0</td>\n",
       "      <td>0</td>\n",
       "      <td>0</td>\n",
       "    </tr>\n",
       "    <tr>\n",
       "      <th>3</th>\n",
       "      <td>33</td>\n",
       "      <td>No</td>\n",
       "      <td>Travel_Frequently</td>\n",
       "      <td>1392</td>\n",
       "      <td>Research &amp; Development</td>\n",
       "      <td>3</td>\n",
       "      <td>4</td>\n",
       "      <td>Life Sciences</td>\n",
       "      <td>1</td>\n",
       "      <td>5</td>\n",
       "      <td>...</td>\n",
       "      <td>3</td>\n",
       "      <td>80</td>\n",
       "      <td>0</td>\n",
       "      <td>8</td>\n",
       "      <td>3</td>\n",
       "      <td>3</td>\n",
       "      <td>8</td>\n",
       "      <td>7</td>\n",
       "      <td>3</td>\n",
       "      <td>0</td>\n",
       "    </tr>\n",
       "    <tr>\n",
       "      <th>4</th>\n",
       "      <td>27</td>\n",
       "      <td>No</td>\n",
       "      <td>Travel_Rarely</td>\n",
       "      <td>591</td>\n",
       "      <td>Research &amp; Development</td>\n",
       "      <td>2</td>\n",
       "      <td>1</td>\n",
       "      <td>Medical</td>\n",
       "      <td>1</td>\n",
       "      <td>7</td>\n",
       "      <td>...</td>\n",
       "      <td>4</td>\n",
       "      <td>80</td>\n",
       "      <td>1</td>\n",
       "      <td>6</td>\n",
       "      <td>3</td>\n",
       "      <td>3</td>\n",
       "      <td>2</td>\n",
       "      <td>2</td>\n",
       "      <td>2</td>\n",
       "      <td>2</td>\n",
       "    </tr>\n",
       "  </tbody>\n",
       "</table>\n",
       "<p>5 rows × 35 columns</p>\n",
       "</div>"
      ],
      "text/plain": [
       "   Age Attrition     BusinessTravel  DailyRate              Department  \\\n",
       "0   41       Yes      Travel_Rarely       1102                   Sales   \n",
       "1   49        No  Travel_Frequently        279  Research & Development   \n",
       "2   37       Yes      Travel_Rarely       1373  Research & Development   \n",
       "3   33        No  Travel_Frequently       1392  Research & Development   \n",
       "4   27        No      Travel_Rarely        591  Research & Development   \n",
       "\n",
       "   DistanceFromHome  Education EducationField  EmployeeCount  EmployeeNumber  \\\n",
       "0                 1          2  Life Sciences              1               1   \n",
       "1                 8          1  Life Sciences              1               2   \n",
       "2                 2          2          Other              1               4   \n",
       "3                 3          4  Life Sciences              1               5   \n",
       "4                 2          1        Medical              1               7   \n",
       "\n",
       "   ...  RelationshipSatisfaction StandardHours  StockOptionLevel  \\\n",
       "0  ...                         1            80                 0   \n",
       "1  ...                         4            80                 1   \n",
       "2  ...                         2            80                 0   \n",
       "3  ...                         3            80                 0   \n",
       "4  ...                         4            80                 1   \n",
       "\n",
       "   TotalWorkingYears  TrainingTimesLastYear WorkLifeBalance  YearsAtCompany  \\\n",
       "0                  8                      0               1               6   \n",
       "1                 10                      3               3              10   \n",
       "2                  7                      3               3               0   \n",
       "3                  8                      3               3               8   \n",
       "4                  6                      3               3               2   \n",
       "\n",
       "  YearsInCurrentRole  YearsSinceLastPromotion  YearsWithCurrManager  \n",
       "0                  4                        0                     5  \n",
       "1                  7                        1                     7  \n",
       "2                  0                        0                     0  \n",
       "3                  7                        3                     0  \n",
       "4                  2                        2                     2  \n",
       "\n",
       "[5 rows x 35 columns]"
      ]
     },
     "execution_count": 78,
     "metadata": {},
     "output_type": "execute_result"
    }
   ],
   "source": [
    "df = pd.read_csv('employee_attrition.csv')\n",
    "df.head()\n",
    "#df.isna().sum(axis=0)"
   ]
  },
  {
   "cell_type": "code",
   "execution_count": 79,
   "metadata": {},
   "outputs": [],
   "source": [
    "att_emp = df[df['Attrition']=='Yes']\n",
    "non_att_emp = df[df['Attrition']=='No']"
   ]
  },
  {
   "cell_type": "code",
   "execution_count": 80,
   "metadata": {},
   "outputs": [
    {
     "data": {
      "text/plain": [
       "(237, 750.3628691983122, 401.89951940778354)"
      ]
     },
     "execution_count": 80,
     "metadata": {},
     "output_type": "execute_result"
    }
   ],
   "source": [
    "n1 = len(att_emp)\n",
    "x1 = att_emp[\"DailyRate\"].mean()\n",
    "s1 = att_emp[\"DailyRate\"].std()\n",
    "\n",
    "(n1, x1, s1)"
   ]
  },
  {
   "cell_type": "code",
   "execution_count": 81,
   "metadata": {},
   "outputs": [
    {
     "data": {
      "text/plain": [
       "(1233, 812.5044606650446, 403.2083790501569)"
      ]
     },
     "execution_count": 81,
     "metadata": {},
     "output_type": "execute_result"
    }
   ],
   "source": [
    "n2 = len(non_att_emp)\n",
    "x2 = non_att_emp[\"DailyRate\"].mean()\n",
    "s2 = non_att_emp[\"DailyRate\"].std()\n",
    "\n",
    "(n2, x2, s2)"
   ]
  },
  {
   "cell_type": "code",
   "execution_count": 82,
   "metadata": {},
   "outputs": [
    {
     "data": {
      "text/plain": [
       "(-2.1740836777017747, 0.029698851543253354)"
      ]
     },
     "execution_count": 82,
     "metadata": {},
     "output_type": "execute_result"
    }
   ],
   "source": [
    "# Please closely investigate the function here \n",
    "# https://www.statsmodels.org/stable/generated/statsmodels.stats.weightstats.ztest.html\n",
    "sm.stats.ztest(att_emp[\"DailyRate\"], non_att_emp[\"DailyRate\"],alternative='two-sided')"
   ]
  },
  {
   "cell_type": "markdown",
   "metadata": {},
   "source": [
    "**Conclusion of the Hypothesis Test:** p-value is 0.0296 <br>\n",
    "Since the p-value is lower than the usual cut-off (0.05), we reject the null hypothesis. The data provides sufficient evidence that the DailyRate is significantly different for different attrited employees"
   ]
  },
  {
   "cell_type": "code",
   "execution_count": 83,
   "metadata": {
    "scrolled": true
   },
   "outputs": [
    {
     "data": {
      "image/png": "[encoded data removed]",
      "text/plain": [
       "<Figure size 504x288 with 1 Axes>"
      ]
     },
     "metadata": {
      "needs_background": "light"
     },
     "output_type": "display_data"
    },
    {
     "data": {
      "image/png": "[encoded data removed]",
      "text/plain": [
       "<Figure size 504x288 with 1 Axes>"
      ]
     },
     "metadata": {
      "needs_background": "light"
     },
     "output_type": "display_data"
    }
   ],
   "source": [
    "# Let's look at plots\n",
    "plt.figure(figsize=(7,4))\n",
    "plt.title(\"Attrited Employees\",fontsize=16)\n",
    "plt.hist(att_emp[\"DailyRate\"].dropna(),edgecolor='k',color='pink',bins=25)\n",
    "plt.show()\n",
    "\n",
    "plt.figure(figsize=(7,4))\n",
    "plt.title(\"Non Attrited Employees\",fontsize=16)\n",
    "plt.hist(non_att_emp[\"DailyRate\"].dropna(),edgecolor='k',color='blue',bins=25)\n",
    "plt.show()"
   ]
  },
  {
   "cell_type": "code",
   "execution_count": 84,
   "metadata": {},
   "outputs": [],
   "source": [
    "# Exercise - In the IMDB dataset, does the ratings of USA movies significantly higher than Non-USA movies?\n",
    "# One-sample or two-sample? One-sided or two-sided?\n"
   ]
  },
  {
   "cell_type": "markdown",
   "metadata": {},
   "source": [
    "### T-tests\n",
    "\n",
    "**When are t-tests used?** <br>\n",
    "T-tests are introduced to take care of uncertainity during low sample sizes (scientifically, sample sizes < 30)\n",
    "\n",
    "**t-distribution vs z-distribution** <br>\n",
    "T-distribution is slightly wider than normal distribution. Unlike normal distribution, it is not fixed, but varies by sample size (called degrees of freedom). As the sample size increases, the degrees of freedom increases and t-dist approximates to z-dist\n",
    "\n",
    "**Industrial use** <br>\n",
    "Usage widely varied by industry. In analytics, t-test are often used for comparing difference in two means\n",
    "\n",
    "**Types of t-tests** <br>\n",
    "* One-sided vs. two-sided (similar to above)\n",
    "* Independent samples vs dependent samples (also called paired vs non paired t-test)"
   ]
  },
  {
   "cell_type": "markdown",
   "metadata": {},
   "source": [
    "### T-test (Independent or Non-paired)"
   ]
  },
  {
   "cell_type": "code",
   "execution_count": 91,
   "metadata": {},
   "outputs": [
    {
     "data": {
      "text/plain": [
       "(-2.1740836777017747, 0.02985816066026497, 1468.0)"
      ]
     },
     "execution_count": 91,
     "metadata": {},
     "output_type": "execute_result"
    }
   ],
   "source": [
    "# Using t-test for the above problem\n",
    "# Independent t-test, two-sided, pooled variance\n",
    "sm.stats.ttest_ind(att_emp[\"DailyRate\"], non_att_emp[\"DailyRate\"], alternative='two-sided')"
   ]
  },
  {
   "cell_type": "markdown",
   "metadata": {},
   "source": [
    "**Conclusion of the Hypothesis Test:** p-value is 0.02985 <br>\n",
    "The t-stat and p-value are almost equal to z-test above since the sample size is high for both the samples"
   ]
  },
  {
   "cell_type": "markdown",
   "metadata": {},
   "source": [
    "### T-test (Dependent or Paired)\n",
    "\n",
    "Example of dependent samples (paired t-test) - Any 'before-after' scenario experiments, or if the samples from both the groups have 1-1 paired relationships.\n",
    "\n",
    "**Question:** To test the effectiveness of a drug, sample readings were collected before and after the drug dosage. Based on the readings, identify whether the drug is positively effective or not?\n",
    "\n",
    "**Population:** People who will receive the drug <br>\n",
    "**Parameter of interest:** $\\mu_1 - \\mu_2$, Diff in avg. readings\n",
    "\n",
    "**Null Hypothesis:** $\\mu_1 - \\mu_2$ = 0<br>\n",
    "**Alternative Hypthosis:** $\\mu_1 - \\mu_2$ $\\neq$ 0\n",
    "\n",
    "**Experiment Data:** Drug experiment data\n"
   ]
  },
  {
   "cell_type": "code",
   "execution_count": 86,
   "metadata": {},
   "outputs": [
    {
     "data": {
      "text/plain": [
       "[10,\n",
       " 14,\n",
       " 22,\n",
       " 45,\n",
       " 20,\n",
       " 12,\n",
       " 17,\n",
       " 10,\n",
       " 11,\n",
       " 14,\n",
       " 24,\n",
       " -10,\n",
       " -4,\n",
       " 21,\n",
       " 21,\n",
       " 6,\n",
       " 25,\n",
       " 12,\n",
       " 20,\n",
       " 14,\n",
       " 3,\n",
       " 12,\n",
       " 25,\n",
       " 11,\n",
       " 27,\n",
       " 14,\n",
       " 8,\n",
       " 15,\n",
       " 9,\n",
       " 31]"
      ]
     },
     "execution_count": 86,
     "metadata": {},
     "output_type": "execute_result"
    }
   ],
   "source": [
    "# This is just a one sample t-test on the differences, where the null hypothesis value is zero\n",
    "import random\n",
    "before_exp = random.sample(range(60, 100), 30)\n",
    "after_exp = random.sample(range(80, 110), 30)\n",
    "diff_in_readings = [after - before for (after,before) in zip(after_exp, before_exp)]\n",
    "diff_in_readings"
   ]
  },
  {
   "cell_type": "code",
   "execution_count": 87,
   "metadata": {},
   "outputs": [
    {
     "data": {
      "text/plain": [
       "(array([1., 1., 2., 6., 9., 5., 4., 1., 0., 1.]),\n",
       " array([-10. ,  -4.5,   1. ,   6.5,  12. ,  17.5,  23. ,  28.5,  34. ,\n",
       "         39.5,  45. ]),\n",
       " <a list of 10 Patch objects>)"
      ]
     },
     "execution_count": 87,
     "metadata": {},
     "output_type": "execute_result"
    },
    {
     "data": {
      "image/png": "[encoded data removed]",
      "text/plain": [
       "<Figure size 432x288 with 1 Axes>"
      ]
     },
     "metadata": {
      "needs_background": "light"
     },
     "output_type": "display_data"
    }
   ],
   "source": [
    "plt.hist(diff_in_readings)"
   ]
  },
  {
   "cell_type": "code",
   "execution_count": 88,
   "metadata": {},
   "outputs": [
    {
     "data": {
      "text/plain": [
       "(8.0250828203694, 5.072873559835365e-16)"
      ]
     },
     "execution_count": 88,
     "metadata": {},
     "output_type": "execute_result"
    }
   ],
   "source": [
    "# Single mean t-test is not present in statsmodels. So, we will use z-test even though the sample size is small\n",
    "sm.stats.ztest(diff_in_readings, alternative='larger')"
   ]
  },
  {
   "cell_type": "code",
   "execution_count": 89,
   "metadata": {},
   "outputs": [
    {
     "data": {
      "text/plain": [
       "Ttest_1sampResult(statistic=8.0250828203694, pvalue=7.520168508672497e-09)"
      ]
     },
     "execution_count": 89,
     "metadata": {},
     "output_type": "execute_result"
    }
   ],
   "source": [
    "# Using the single mean t-test from scipy.stats\n",
    "stats.ttest_1samp(diff_in_readings, popmean = 0) # Returns a two-sided p-value"
   ]
  },
  {
   "cell_type": "markdown",
   "metadata": {},
   "source": [
    "**Conclusion of the Hypothesis Test:** p-value is 3.61e-07 (very very small) <br>\n",
    "Since the p-value is much smaller, we can reject the null-hypothesis. The data provides sufficient evidence that the readings after the drug test are significantly higher compared to before the drug was administered."
   ]
  },
  {
   "cell_type": "markdown",
   "metadata": {},
   "source": [
    "### 3c. Inference for Comparing Multiple Means (Multi-Categorical vs. Continuous Relationship)\n",
    "\n",
    "### ANOVA (F-test) - Used to compare means of more than 2 groups\n",
    "\n",
    "**Types:** One-way (one factor) ANOVA, Two-way (two factor) ANOVA\n",
    "\n",
    "**Hypothesis:**\n",
    "*  NULL Hypothesis: All group means are equal (no difference in means across different groups)\n",
    "*  Alternate Hypothesis: Atleast one group mean is different from other groups\n",
    "\n",
    "**How ANOVA works:** [Visual Tutorial of ANOVA](https://www.youtube.com/watch?v=-yQb_ZJnFXw)\n",
    "\n",
    "-------------------------\n",
    "\n",
    "**Question:** We have a dataset where we have observations from 4 different groups. Let's assume that these are the customer engagement scores after exposing them to different 3 new experiences keeping one group as control. Using this sample data, provide an insight into whether the new experiences have different engagement scores?"
   ]
  },
  {
   "cell_type": "code",
   "execution_count": 3,
   "metadata": {},
   "outputs": [
    {
     "data": {
      "text/plain": [
       "<matplotlib.axes._subplots.AxesSubplot at 0x27ea13d7f28>"
      ]
     },
     "execution_count": 3,
     "metadata": {},
     "output_type": "execute_result"
    },
    {
     "data": {
      "image/png": "[encoded data removed]",
      "text/plain": [
       "<Figure size 432x288 with 1 Axes>"
      ]
     },
     "metadata": {
      "needs_background": "light"
     },
     "output_type": "display_data"
    }
   ],
   "source": [
    "# Source: reneshbedre.github.io\n",
    "data = pd.read_csv(\"https://reneshbedre.github.io/assets/posts/anova/onewayanova.txt\", sep=\"\\t\")\n",
    "data.boxplot(column=['A', 'B', 'C', 'D'], grid=False)"
   ]
  },
  {
   "cell_type": "code",
   "execution_count": 4,
   "metadata": {},
   "outputs": [
    {
     "data": {
      "text/html": [
       "<div>\n",
       "<style scoped>\n",
       "    .dataframe tbody tr th:only-of-type {\n",
       "        vertical-align: middle;\n",
       "    }\n",
       "\n",
       "    .dataframe tbody tr th {\n",
       "        vertical-align: top;\n",
       "    }\n",
       "\n",
       "    .dataframe thead th {\n",
       "        text-align: right;\n",
       "    }\n",
       "</style>\n",
       "<table border=\"1\" class=\"dataframe\">\n",
       "  <thead>\n",
       "    <tr style=\"text-align: right;\">\n",
       "      <th></th>\n",
       "      <th>A</th>\n",
       "      <th>B</th>\n",
       "      <th>C</th>\n",
       "      <th>D</th>\n",
       "    </tr>\n",
       "  </thead>\n",
       "  <tbody>\n",
       "    <tr>\n",
       "      <th>0</th>\n",
       "      <td>25</td>\n",
       "      <td>45</td>\n",
       "      <td>30</td>\n",
       "      <td>54</td>\n",
       "    </tr>\n",
       "    <tr>\n",
       "      <th>1</th>\n",
       "      <td>30</td>\n",
       "      <td>55</td>\n",
       "      <td>29</td>\n",
       "      <td>60</td>\n",
       "    </tr>\n",
       "    <tr>\n",
       "      <th>2</th>\n",
       "      <td>28</td>\n",
       "      <td>29</td>\n",
       "      <td>33</td>\n",
       "      <td>51</td>\n",
       "    </tr>\n",
       "    <tr>\n",
       "      <th>3</th>\n",
       "      <td>36</td>\n",
       "      <td>56</td>\n",
       "      <td>37</td>\n",
       "      <td>62</td>\n",
       "    </tr>\n",
       "    <tr>\n",
       "      <th>4</th>\n",
       "      <td>29</td>\n",
       "      <td>40</td>\n",
       "      <td>27</td>\n",
       "      <td>73</td>\n",
       "    </tr>\n",
       "  </tbody>\n",
       "</table>\n",
       "</div>"
      ],
      "text/plain": [
       "    A   B   C   D\n",
       "0  25  45  30  54\n",
       "1  30  55  29  60\n",
       "2  28  29  33  51\n",
       "3  36  56  37  62\n",
       "4  29  40  27  73"
      ]
     },
     "execution_count": 4,
     "metadata": {},
     "output_type": "execute_result"
    }
   ],
   "source": [
    "data"
   ]
  },
  {
   "cell_type": "code",
   "execution_count": null,
   "metadata": {},
   "outputs": [],
   "source": []
  },
  {
   "cell_type": "code",
   "execution_count": 5,
   "metadata": {},
   "outputs": [
    {
     "data": {
      "text/plain": [
       "F_onewayResult(statistic=17.492810457516338, pvalue=2.639241146210922e-05)"
      ]
     },
     "execution_count": 5,
     "metadata": {},
     "output_type": "execute_result"
    }
   ],
   "source": [
    "# Scipy stats f_oneway function takes the groups as input and returns F and P-value\n",
    "stats.f_oneway(data['A'], data['B'], data['C'], data['D'])"
   ]
  },
  {
   "cell_type": "markdown",
   "metadata": {},
   "source": [
    "**Conclusion:** As the p-value is much lower than 0.05, we reject he NULL hypothesis and conclude that there are significant differences between the groups. However, we cannot say which particular groups are different from others"
   ]
  },
  {
   "cell_type": "markdown",
   "metadata": {},
   "source": [
    "### Post-hoc Comparison (Tukey HSD Test) (Optional)\n",
    "Used to compare the pair-wise group means"
   ]
  },
  {
   "cell_type": "code",
   "execution_count": 10,
   "metadata": {},
   "outputs": [],
   "source": [
    "#!pip install pingouin\n",
    "#from pingouin import pairwise_tukey"
   ]
  },
  {
   "cell_type": "code",
   "execution_count": null,
   "metadata": {},
   "outputs": [],
   "source": [
    "# reshape the dataframe suitable for pingouin package \n",
    "data_melt = pd.melt(data.reset_index(), id_vars=['index'], value_vars=['A', 'B', 'C', 'D'])\n",
    "# replace column names\n",
    "data_melt.columns = ['index', 'treatments', 'value']\n",
    "data_melt.head()"
   ]
  },
  {
   "cell_type": "code",
   "execution_count": null,
   "metadata": {},
   "outputs": [],
   "source": [
    "# perform multiple pairwise comparison (Tukey HSD)\n",
    "# for unbalanced (unequal sample size) data, pairwise_tukey uses Tukey-Kramer test\n",
    "pairwise_comp = pairwise_tukey(data=data_melt, dv='value', between='treatments')\n",
    "print(pairwise_comp)"
   ]
  },
  {
   "cell_type": "markdown",
   "metadata": {},
   "source": [
    "### Two-way ANOVA - MANOVA\n",
    "Used to compare two different factors (two independent variables) against a continuous outcome\n",
    "    \n",
    "**Example:** [Effect of genotype (first factor) and year (second factor) on yield of plants](https://reneshbedre.github.io/blog/anova.html)"
   ]
  },
  {
   "cell_type": "markdown",
   "metadata": {},
   "source": [
    "### 3d. Inference for Single Categorical Variable (>=2 levels)\n",
    "\n",
    "Chi-Square Goodness-Of-Fit test\n",
    "\n",
    "**Question:** We want to understand whether India produces similar genre movies compared to rest of the world. in other words, does the Indian movie genre distribution differ to an expected population distribution"
   ]
  },
  {
   "cell_type": "code",
   "execution_count": 11,
   "metadata": {},
   "outputs": [],
   "source": [
    "# Data - Assume there are 5 genres - Romance, Drama, Action, Thriller, Horror\n",
    "indian_genre = [34, 45, 60, 12, 8]"
   ]
  },
  {
   "cell_type": "code",
   "execution_count": 19,
   "metadata": {},
   "outputs": [
    {
     "data": {
      "text/plain": [
       "Power_divergenceResult(statistic=60.77987421383648, pvalue=1.9888794232903695e-12)"
      ]
     },
     "execution_count": 19,
     "metadata": {},
     "output_type": "execute_result"
    }
   ],
   "source": [
    "stats.chisquare(f_obs = indian_genre) # f_exp is assumed to have equal distribution"
   ]
  },
  {
   "cell_type": "markdown",
   "metadata": {},
   "source": [
    "**Conclusion:** Based on the chisq-stat and p-value, Indian genre movies differ significantly to the world's genre. But, here we assumed that the world's genre is equally distributed."
   ]
  },
  {
   "cell_type": "code",
   "execution_count": 20,
   "metadata": {},
   "outputs": [
    {
     "data": {
      "text/plain": [
       "Power_divergenceResult(statistic=2.4376371964393746, pvalue=0.65583653407678)"
      ]
     },
     "execution_count": 20,
     "metadata": {},
     "output_type": "execute_result"
    }
   ],
   "source": [
    "world_avg_genre =  [38, 42, 58, 10, 12]\n",
    "stats.chisquare(f_obs = indian_genre, f_exp = world_avg_genre) #f_exp is assumed to have equal distribution"
   ]
  },
  {
   "cell_type": "markdown",
   "metadata": {},
   "source": [
    "**Conclusion:** Based on the chisq-stat and p-value, Indian genre movies doesn't differ significantly to the world's genre."
   ]
  },
  {
   "cell_type": "markdown",
   "metadata": {},
   "source": [
    "### 3e. Inference for Two Categorical Variables (Cat vs. Cat variable Relationship)\n",
    "\n",
    "Chi-Square Test of Indepdence\n",
    "\n",
    "**Question:** Based on the Employee Attrition dataset, does business travel frequency has an impact on attrition?"
   ]
  },
  {
   "cell_type": "code",
   "execution_count": 22,
   "metadata": {},
   "outputs": [
    {
     "data": {
      "text/html": [
       "<div>\n",
       "<style scoped>\n",
       "    .dataframe tbody tr th:only-of-type {\n",
       "        vertical-align: middle;\n",
       "    }\n",
       "\n",
       "    .dataframe tbody tr th {\n",
       "        vertical-align: top;\n",
       "    }\n",
       "\n",
       "    .dataframe thead th {\n",
       "        text-align: right;\n",
       "    }\n",
       "</style>\n",
       "<table border=\"1\" class=\"dataframe\">\n",
       "  <thead>\n",
       "    <tr style=\"text-align: right;\">\n",
       "      <th>Attrition</th>\n",
       "      <th>No</th>\n",
       "      <th>Yes</th>\n",
       "    </tr>\n",
       "    <tr>\n",
       "      <th>BusinessTravel</th>\n",
       "      <th></th>\n",
       "      <th></th>\n",
       "    </tr>\n",
       "  </thead>\n",
       "  <tbody>\n",
       "    <tr>\n",
       "      <th>Non-Travel</th>\n",
       "      <td>138</td>\n",
       "      <td>12</td>\n",
       "    </tr>\n",
       "    <tr>\n",
       "      <th>Travel_Frequently</th>\n",
       "      <td>208</td>\n",
       "      <td>69</td>\n",
       "    </tr>\n",
       "    <tr>\n",
       "      <th>Travel_Rarely</th>\n",
       "      <td>887</td>\n",
       "      <td>156</td>\n",
       "    </tr>\n",
       "  </tbody>\n",
       "</table>\n",
       "</div>"
      ],
      "text/plain": [
       "Attrition           No  Yes\n",
       "BusinessTravel             \n",
       "Non-Travel         138   12\n",
       "Travel_Frequently  208   69\n",
       "Travel_Rarely      887  156"
      ]
     },
     "execution_count": 22,
     "metadata": {},
     "output_type": "execute_result"
    }
   ],
   "source": [
    "# The two variables of interest: BusinessTravel, Attrition\n",
    "df = pd.read_csv('employee_attrition.csv')\n",
    "contingency_table = pd.crosstab(df['BusinessTravel'], df['Attrition'])\n",
    "contingency_table"
   ]
  },
  {
   "cell_type": "code",
   "execution_count": 24,
   "metadata": {},
   "outputs": [
    {
     "data": {
      "text/plain": [
       "(24.182413685655174,\n",
       " 5.608614476449931e-06,\n",
       " 2,\n",
       " array([[125.81632653,  24.18367347],\n",
       "        [232.34081633,  44.65918367],\n",
       "        [874.84285714, 168.15714286]]))"
      ]
     },
     "execution_count": 24,
     "metadata": {},
     "output_type": "execute_result"
    }
   ],
   "source": [
    "# Returns stat, p-value, dof, expected values\n",
    "stats.chi2_contingency(contingency_table)"
   ]
  },
  {
   "cell_type": "markdown",
   "metadata": {},
   "source": [
    "**Conclusion:** Based on the chisq-stat and p-value, we can reject the Null Hypothesis (no dependence between business travel and Attrition) and conclude that the data provides strong evidence that Attrition is dependent on Business travel."
   ]
  },
  {
   "cell_type": "markdown",
   "metadata": {},
   "source": [
    "---------------------------\n",
    "\n",
    "### What you should do next?\n",
    "* Complete the assignment - Covers all the learnings from Descriptive and Inferential Stats on a single real-world dataset\n",
    "* Take a dataset that you use in your day-to-day work and apply at-least two new things that you have learnt in this module\n",
    "\n",
    "### What you can do next?\n",
    "* [Inferential Statistics Revised](https://www.coursera.org/learn/inferential-statistics-intro)\n",
    "* [Fitting Statistical Models in Python](https://www.coursera.org/learn/fitting-statistical-models-data-python)\n",
    "* [Machine Learning](https://www.coursera.org/learn/machine-learning?)"
   ]
  },
  {
   "cell_type": "code",
   "execution_count": null,
   "metadata": {},
   "outputs": [],
   "source": []
  }
 ],
 "metadata": {
  "colab": {
   "authorship_tag": "ABX9TyN0jwcBTUonGzrqJukemwkV",
   "collapsed_sections": [],
   "mount_file_id": "1z70kNAtNKHsQ2R_hgL_LzCrC7Ipt9m40",
   "name": "Statistics 101.ipynb",
   "provenance": []
  },
  "kernelspec": {
   "display_name": "Python 3",
   "language": "python",
   "name": "python3"
  },
  "language_info": {
   "codemirror_mode": {
    "name": "ipython",
    "version": 3
   },
   "file_extension": ".py",
   "mimetype": "text/x-python",
   "name": "python",
   "nbconvert_exporter": "python",
   "pygments_lexer": "ipython3",
   "version": "3.6.6"
  }
 },
 "nbformat": 4,
 "nbformat_minor": 1
}
